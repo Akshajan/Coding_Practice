{
 "cells": [
  {
   "cell_type": "code",
   "execution_count": 2,
   "id": "cd95329f",
   "metadata": {},
   "outputs": [
    {
     "name": "stdout",
     "output_type": "stream",
     "text": [
      "[(10, 19), (12, 10), (12, 19), (17, 6)]\n"
     ]
    }
   ],
   "source": [
    "import random\n",
    "a = [(random.randint(0,19) ,random.randint(0,19) )for i in range(4)]\n",
    "print(a)"
   ]
  },
  {
   "cell_type": "code",
   "execution_count": null,
   "id": "441569cf",
   "metadata": {},
   "outputs": [],
   "source": [
    "MOD = 10000\n",
    "\n",
    "def count_arrays(n, k):\n",
    "    # Memoization dictionary\n",
    "    memo = {}\n",
    "\n",
    "    def dfs(prev, length):\n",
    "        # Base case: if we reached length k\n",
    "        if length == k:\n",
    "            return 1\n",
    "        # Memoization key\n",
    "        key = (prev, length)\n",
    "        if key in memo:\n",
    "            return memo[key]\n",
    "        \n",
    "        total = 0\n",
    "        # Try every number from 1 to n\n",
    "        for nxt in range(1, n + 1):\n",
    "            if prev == 0 or nxt % prev == 0:\n",
    "                total += dfs(nxt, length + 1)\n",
    "        \n",
    "        memo[key] = total % MOD\n",
    "        return memo[key]\n",
    "\n",
    "    # Start from 0 (as a dummy number for first element)\n",
    "    return dfs(0, 0)\n",
    "\n",
    "# Input\n",
    "n = int(input(\"Enter the maximum possible value (N): \"))\n",
    "k = int(input(\"Enter the length of the array (K): \"))\n",
    "\n",
    "# Output\n",
    "print(count_arrays(n, k))\n"
   ]
  },
  {
   "cell_type": "code",
   "execution_count": 1,
   "id": "d2308231",
   "metadata": {},
   "outputs": [
    {
     "data": {
      "text/plain": [
       "1"
      ]
     },
     "execution_count": 1,
     "metadata": {},
     "output_type": "execute_result"
    }
   ],
   "source": [
    "def test(k):\n",
    "    length =10\n",
    "    if length == k:\n",
    "        return 1\n",
    "    \n",
    "    \n",
    "    print(\"Your are wrong\")\n",
    "    \n",
    "\n",
    "test(10)"
   ]
  },
  {
   "cell_type": "code",
   "execution_count": 1,
   "id": "c3958d46",
   "metadata": {},
   "outputs": [
    {
     "name": "stdout",
     "output_type": "stream",
     "text": [
      "[1, True, 'hello', [1, 2]]\n"
     ]
    }
   ],
   "source": [
    "data = [1, 0, True, False, \"\", \"hello\", None, [], [1, 2]]\n",
    "filtered_data = list(filter(None, data))\n",
    "print(filtered_data)"
   ]
  },
  {
   "cell_type": "code",
   "execution_count": 16,
   "id": "27eef968",
   "metadata": {},
   "outputs": [
    {
     "name": "stdout",
     "output_type": "stream",
     "text": [
      "['K', 'k', 'u', 'n', 'j', 'k', 'h', 'a', 'h', 'o', 'r', 'i', 'n']\n",
      "uronnkkjihhaK\n"
     ]
    }
   ],
   "source": [
    "n=int(input(\"enter the number of students: \"))\n",
    "str=input(\"enter the student initials:\")\n",
    "initials = list(str)\n",
    "print(initials)\n",
    "def isPrime(num):\n",
    "    if num>2 :\n",
    "        return False\n",
    "    if num ==2:\n",
    "        return True\n",
    "    for i in range(2,n//2+1):\n",
    "        if num%i==0:\n",
    "            return False\n",
    "        return True\n",
    "def warden(initials):\n",
    "    p=[]\n",
    "    c=[]\n",
    "    for item in initials:\n",
    "        num = ord(item)\n",
    "        if isPrime(num) :\n",
    "            p.append(item)\n",
    "        else:\n",
    "            c.append(item)\n",
    "    p.sort()\n",
    "    c.sort(reverse=True)\n",
    "    d = p+c\n",
    "    print(\"\".join(d))\n",
    "warden(initials)"
   ]
  },
  {
   "cell_type": "code",
   "execution_count": null,
   "id": "8db69426",
   "metadata": {},
   "outputs": [
    {
     "name": "stdout",
     "output_type": "stream",
     "text": [
      "Abhay Menon\n",
      "Abhay Prasob\n"
     ]
    }
   ],
   "source": [
    "\n",
    "def name(initial):\n",
    "    return \"Abhay \" + initial\n",
    "\n",
    "def outer ():\n",
    "    def inner ():\n",
    "        print(name(\"Prasob\"))\n",
    "    print(name(\"Menon\"))\n",
    "    inner()  # Call inner from outer\n",
    "\n",
    "outer()\n"
   ]
  },
  {
   "cell_type": "code",
   "execution_count": 2,
   "id": "dd834c23",
   "metadata": {},
   "outputs": [
    {
     "name": "stdout",
     "output_type": "stream",
     "text": [
      "['1', '2', '3']\n"
     ]
    }
   ],
   "source": [
    "a = [(input(\"enter: \")) for i in  range(2,5)]\n",
    "print(a)"
   ]
  },
  {
   "cell_type": "code",
   "execution_count": null,
   "id": "8a4b65d9",
   "metadata": {},
   "outputs": [
    {
     "name": "stdout",
     "output_type": "stream",
     "text": [
      "3\n"
     ]
    }
   ],
   "source": [
    "n = int(input(\"Enter the size: \"))\n",
    "s = [(input(\"Enter:\")) for i in range(n)]\n",
    "k = input(\"Enter the char: \")\n",
    "count=0\n",
    "for i in range(n):\n",
    "    if s[i]==k:\n",
    "        count +=1\n",
    "\n",
    "print(count)\n"
   ]
  },
  {
   "cell_type": "code",
   "execution_count": 4,
   "id": "fe17b5ea",
   "metadata": {},
   "outputs": [
    {
     "name": "stdout",
     "output_type": "stream",
     "text": [
      "['a', 'k', 's', 'h', 'a', 'j', 'a', 'n']\n"
     ]
    }
   ],
   "source": [
    "s = input(\"Enter a string: \").split()\n",
    "print(s)"
   ]
  },
  {
   "cell_type": "markdown",
   "id": "696fc8f4",
   "metadata": {},
   "source": []
  },
  {
   "cell_type": "code",
   "execution_count": 1,
   "id": "d94d99b8",
   "metadata": {},
   "outputs": [
    {
     "name": "stdout",
     "output_type": "stream",
     "text": [
      "Longest substring without repeating characters: bhayk\n",
      "Length: 5\n"
     ]
    }
   ],
   "source": [
    "class Solution(object):\n",
    "    def lengthOfLongestSubstring(self, s):\n",
    "        start = 0\n",
    "        max_len = 0\n",
    "        seen = {}\n",
    "        longest = \"\"\n",
    "\n",
    "        for end in range(len(s)):\n",
    "            if s[end] in seen and seen[s[end]] >= start:\n",
    "                start = seen[s[end]] + 1\n",
    "            seen[s[end]] = end\n",
    "\n",
    "            if (end - start + 1) > max_len:\n",
    "                max_len = end - start + 1\n",
    "                longest = s[start:end+1]\n",
    "\n",
    "        print(\"Longest substring without repeating characters:\", longest)\n",
    "        print(\"Length:\", max_len)\n",
    "\n",
    "obj = Solution()\n",
    "s = \"abhaykha\"\n",
    "obj.lengthOfLongestSubstring(s)\n"
   ]
  },
  {
   "cell_type": "code",
   "execution_count": 2,
   "id": "0f8cc828",
   "metadata": {},
   "outputs": [
    {
     "name": "stdout",
     "output_type": "stream",
     "text": [
      "5\n"
     ]
    }
   ],
   "source": [
    "s=\"abhay\"\n",
    "print(len(s))"
   ]
  },
  {
   "cell_type": "code",
   "execution_count": 11,
   "id": "967d6971",
   "metadata": {},
   "outputs": [
    {
     "name": "stdout",
     "output_type": "stream",
     "text": [
      "bh\n"
     ]
    }
   ],
   "source": [
    "s=\"abhay\"\n",
    "print(s[1:3])"
   ]
  },
  {
   "cell_type": "code",
   "execution_count": 1,
   "id": "6bd2d860",
   "metadata": {},
   "outputs": [
    {
     "name": "stdout",
     "output_type": "stream",
     "text": [
      "0\n",
      "1\n",
      "2\n",
      "3\n",
      "4\n"
     ]
    }
   ],
   "source": [
    "for j in range(5):\n",
    "    print(j)"
   ]
  },
  {
   "cell_type": "markdown",
   "id": "e0af4e57",
   "metadata": {},
   "source": [
    "\n",
    " - Two sum problem"
   ]
  },
  {
   "cell_type": "code",
   "execution_count": 1,
   "id": "d2eee061",
   "metadata": {},
   "outputs": [
    {
     "name": "stdout",
     "output_type": "stream",
     "text": [
      "Indices of two numbers that add up to target: [0, 3]\n"
     ]
    }
   ],
   "source": [
    "class Solution:\n",
    "    def twoSum(self, nums, target):\n",
    "        hash_map = {}  # value -> index\n",
    "        \n",
    "        for index, item in enumerate(nums):\n",
    "            complement = target - item\n",
    "            if complement in hash_map:\n",
    "                return [hash_map[complement], index]\n",
    "            hash_map[item] = index\n",
    "        return None  # If no pair found\n",
    "\n",
    "def main():\n",
    "    n = int(input(\"Enter the list size: \"))\n",
    "    nums = [int(input(f\"Enter element {i+1}: \")) for i in range(n)]\n",
    "    target = int(input(\"Enter the target value: \"))\n",
    "\n",
    "    solution = Solution()\n",
    "    result = solution.twoSum(nums, target)\n",
    "    \n",
    "    if result:\n",
    "        print(\"Indices of two numbers that add up to target:\", result)\n",
    "    else:\n",
    "        print(\"No valid pair found.\")\n",
    "\n",
    "# Run the program\n",
    "main()\n"
   ]
  },
  {
   "cell_type": "markdown",
   "id": "fcc80f4c",
   "metadata": {},
   "source": []
  }
 ],
 "metadata": {
  "kernelspec": {
   "display_name": "Python 3",
   "language": "python",
   "name": "python3"
  },
  "language_info": {
   "codemirror_mode": {
    "name": "ipython",
    "version": 3
   },
   "file_extension": ".py",
   "mimetype": "text/x-python",
   "name": "python",
   "nbconvert_exporter": "python",
   "pygments_lexer": "ipython3",
   "version": "3.12.1"
  }
 },
 "nbformat": 4,
 "nbformat_minor": 5
}
