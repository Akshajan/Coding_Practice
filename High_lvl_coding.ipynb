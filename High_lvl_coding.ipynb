{
 "cells": [
  {
   "cell_type": "code",
   "execution_count": 2,
   "id": "cd95329f",
   "metadata": {},
   "outputs": [
    {
     "name": "stdout",
     "output_type": "stream",
     "text": [
      "[(10, 19), (12, 10), (12, 19), (17, 6)]\n"
     ]
    }
   ],
   "source": [
    "import random\n",
    "a = [(random.randint(0,19) ,random.randint(0,19) )for i in range(4)]\n",
    "print(a)"
   ]
  },
  {
   "cell_type": "code",
   "execution_count": 1,
   "id": "c3958d46",
   "metadata": {},
   "outputs": [
    {
     "name": "stdout",
     "output_type": "stream",
     "text": [
      "[1, True, 'hello', [1, 2]]\n"
     ]
    }
   ],
   "source": [
    "data = [1, 0, True, False, \"\", \"hello\", None, [], [1, 2]]\n",
    "filtered_data = list(filter(None, data))\n",
    "print(filtered_data)"
   ]
  },
  {
   "cell_type": "code",
   "execution_count": 3,
   "id": "dd834c23",
   "metadata": {},
   "outputs": [
    {
     "name": "stdout",
     "output_type": "stream",
     "text": [
      "['1', '2', '3', '4', '5']\n"
     ]
    }
   ],
   "source": [
    "a = [(input()) for i in  range(5)]\n",
    "print(a)"
   ]
  },
  {
   "cell_type": "markdown",
   "id": "696fc8f4",
   "metadata": {},
   "source": []
  },
  {
   "cell_type": "code",
   "execution_count": 1,
   "id": "d94d99b8",
   "metadata": {},
   "outputs": [
    {
     "name": "stdout",
     "output_type": "stream",
     "text": [
      "Longest substring without repeating characters: bhayk\n",
      "Length: 5\n"
     ]
    }
   ],
   "source": [
    "class Solution(object):\n",
    "    def lengthOfLongestSubstring(self, s):\n",
    "        start = 0\n",
    "        max_len = 0\n",
    "        seen = {}\n",
    "        longest = \"\"\n",
    "\n",
    "        for end in range(len(s)):\n",
    "            if s[end] in seen and seen[s[end]] >= start:\n",
    "                start = seen[s[end]] + 1\n",
    "            seen[s[end]] = end\n",
    "\n",
    "            if (end - start + 1) > max_len:\n",
    "                max_len = end - start + 1\n",
    "                longest = s[start:end+1]\n",
    "\n",
    "        print(\"Longest substring without repeating characters:\", longest)\n",
    "        print(\"Length:\", max_len)\n",
    "\n",
    "obj = Solution()\n",
    "s = \"abhaykha\"\n",
    "obj.lengthOfLongestSubstring(s)\n"
   ]
  },
  {
   "cell_type": "code",
   "execution_count": 2,
   "id": "0f8cc828",
   "metadata": {},
   "outputs": [
    {
     "name": "stdout",
     "output_type": "stream",
     "text": [
      "5\n"
     ]
    }
   ],
   "source": [
    "s=\"abhay\"\n",
    "print(len(s))"
   ]
  },
  {
   "cell_type": "code",
   "execution_count": 11,
   "id": "967d6971",
   "metadata": {},
   "outputs": [
    {
     "name": "stdout",
     "output_type": "stream",
     "text": [
      "bh\n"
     ]
    }
   ],
   "source": [
    "s=\"abhay\"\n",
    "print(s[1:3])"
   ]
  },
  {
   "cell_type": "markdown",
   "id": "e0af4e57",
   "metadata": {},
   "source": [
    "\n",
    " - fdf\n",
    "\n",
    " 1. dsd\n",
    "  \n",
    " [aaa](./123.jpeg)"
   ]
  },
  {
   "cell_type": "markdown",
   "id": "fcc80f4c",
   "metadata": {},
   "source": []
  }
 ],
 "metadata": {
  "kernelspec": {
   "display_name": "Python 3",
   "language": "python",
   "name": "python3"
  },
  "language_info": {
   "codemirror_mode": {
    "name": "ipython",
    "version": 3
   },
   "file_extension": ".py",
   "mimetype": "text/x-python",
   "name": "python",
   "nbconvert_exporter": "python",
   "pygments_lexer": "ipython3",
   "version": "3.12.1"
  }
 },
 "nbformat": 4,
 "nbformat_minor": 5
}
